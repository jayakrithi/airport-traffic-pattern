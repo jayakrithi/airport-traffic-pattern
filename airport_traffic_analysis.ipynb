{
  "cells": [
    {
      "cell_type": "code",
      "source": [
        "# Import statements to integrate notebook with azure datastores and datasets\r\n",
        "import azureml.core\r\n",
        "from azureml.core import Workspace, Datastore\r\n",
        "import os\r\n",
        "from azureml.core import Dataset\r\n",
        "import pandas as pd \r\n",
        "\r\n",
        "# workspace config information \r\n",
        "ws = Workspace.from_config()\r\n",
        "\r\n",
        "# Details to access the blob storage \r\n",
        "blob_datastoreName='workspaceblobstore' # Name of the datastore to workspace\r\n",
        "containerName=\"azureml-blobstore-d845fdc7-5370-4245-acd8-5ecb6fe12273\"# Name of Azure blob container\r\n",
        "accountName= \"airporttraffic6785036281\" # Storage account name\r\n",
        "accountKey= \"5MIUzuKK7cvU7dHdD3EetRe5kU98EziZYhEqQM15Hv5bD9HjM5IzOtjq7uBpHFJEtdOj35Rrm9dSbnY0A2hjKw==\" # Storage account access key\r\n",
        "\r\n",
        "# Using Azure Blob GET API to fetch the blob datastore \r\n",
        "blob_datastore = Datastore.get(ws, blob_datastoreName)\r\n",
        "\r\n",
        "# Get the registered tabular dataset by name \r\n",
        "ds = Dataset.get_by_name(ws, 'covid_impact_on_airport_traffic.csv')\r\n",
        "# Converting dataset into pandas dataframe\r\n",
        "df = ds.to_pandas_dataframe()"
      ],
      "outputs": [],
      "execution_count": null,
      "metadata": {
        "gather": {
          "logged": 1627519089353
        }
      }
    },
    {
      "cell_type": "code",
      "source": [
        "# Preparing Data \r\n",
        "\r\n",
        "# Data Attribute Description \r\n",
        "# Percentage Baseline : Proportion of trips on this date as compared to\r\n",
        "# Avg number of trips on the same day of week in baseline period \r\n",
        "\r\n",
        "# Adding Weekday and month \r\n",
        "df['Day'] = pd.to_datetime(df['Date']).dt.day_name()\r\n",
        "df['Month'] = pd.to_datetime(df['Date']).dt.month_name()\r\n",
        "\r\n",
        "# Splitting Longitude and Latitudes \r\n",
        "df['long'] = df['Centroid'].apply(lambda x: x[6:-1].split(' ')[0])\r\n",
        "df['lat'] = df['Centroid'].apply(lambda x: x[6:-1].split(' ')[1])\r\n",
        "\r\n",
        "# Dropping unnecessary columns \r\n",
        "df.drop(columns=['Path', 'AggregationMethod', 'Version', 'Centroid'], inplace=True)"
      ],
      "outputs": [],
      "execution_count": null,
      "metadata": {
        "collapsed": true,
        "jupyter": {
          "source_hidden": false,
          "outputs_hidden": false
        },
        "nteract": {
          "transient": {
            "deleting": false
          }
        },
        "gather": {
          "logged": 1627519149072
        }
      }
    },
    {
      "cell_type": "code",
      "source": [
        "print(\"Dataframe shape \", df.shape)\r\n",
        "df.isna().sum() # the number of null values or undefined values"
      ],
      "outputs": [],
      "execution_count": null,
      "metadata": {
        "collapsed": true,
        "jupyter": {
          "source_hidden": false,
          "outputs_hidden": false
        },
        "nteract": {
          "transient": {
            "deleting": false
          }
        },
        "gather": {
          "logged": 1627522775109
        }
      }
    },
    {
      "cell_type": "code",
      "source": [
        "# Displaying the basic stats \r\n",
        "print(\"Descriptive Stats\")\r\n",
        "print(df.describe())\r\n",
        "print(\"-----------------\")\r\n",
        "print(\"Print dataframe information\")\r\n",
        "print(df.info())"
      ],
      "outputs": [],
      "execution_count": null,
      "metadata": {
        "collapsed": true,
        "jupyter": {
          "source_hidden": false,
          "outputs_hidden": false
        },
        "nteract": {
          "transient": {
            "deleting": false
          }
        },
        "gather": {
          "logged": 1627523031561
        }
      }
    },
    {
      "cell_type": "code",
      "source": [
        "# Generating a correlation matrix to understabd \r\n",
        "# The dependencies between the different attributes. \r\n",
        "\r\n",
        "# Encoding Variables \r\n",
        "def Encode(df):\r\n",
        "        for column in df.columns[~df.columns.isin(['PercentOfBaseline','Date'])]:\r\n",
        "            df[column] = df[column].factorize()[0]\r\n",
        "        return df"
      ],
      "outputs": [],
      "execution_count": 18,
      "metadata": {
        "collapsed": true,
        "jupyter": {
          "source_hidden": false,
          "outputs_hidden": false
        },
        "nteract": {
          "transient": {
            "deleting": false
          }
        },
        "gather": {
          "logged": 1627526872688
        }
      }
    },
    {
      "cell_type": "code",
      "source": [
        "encoded_df = Encode(df.copy())\r\n",
        "encoded_df.head()"
      ],
      "outputs": [
        {
          "output_type": "execute_result",
          "execution_count": 19,
          "data": {
            "text/plain": "        Date  AirportName  PercentOfBaseline  City  State  ISO_3166_2  \\\n0 2020-04-03            0                 64     0      0           0   \n1 2020-04-13            0                 29     0      0           0   \n2 2020-07-10            0                 54     0      0           0   \n3 2020-09-02            0                 18     0      0           0   \n4 2020-10-31            0                 22     0      0           0   \n\n   Country  Geography  Day  Month  long  lat  \n0        0          0    0      0     0    0  \n1        0          0    1      0     0    0  \n2        0          0    0      1     0    0  \n3        0          0    2      2     0    0  \n4        0          0    3      3     0    0  ",
            "text/html": "<div>\n<style scoped>\n    .dataframe tbody tr th:only-of-type {\n        vertical-align: middle;\n    }\n\n    .dataframe tbody tr th {\n        vertical-align: top;\n    }\n\n    .dataframe thead th {\n        text-align: right;\n    }\n</style>\n<table border=\"1\" class=\"dataframe\">\n  <thead>\n    <tr style=\"text-align: right;\">\n      <th></th>\n      <th>Date</th>\n      <th>AirportName</th>\n      <th>PercentOfBaseline</th>\n      <th>City</th>\n      <th>State</th>\n      <th>ISO_3166_2</th>\n      <th>Country</th>\n      <th>Geography</th>\n      <th>Day</th>\n      <th>Month</th>\n      <th>long</th>\n      <th>lat</th>\n    </tr>\n  </thead>\n  <tbody>\n    <tr>\n      <th>0</th>\n      <td>2020-04-03</td>\n      <td>0</td>\n      <td>64</td>\n      <td>0</td>\n      <td>0</td>\n      <td>0</td>\n      <td>0</td>\n      <td>0</td>\n      <td>0</td>\n      <td>0</td>\n      <td>0</td>\n      <td>0</td>\n    </tr>\n    <tr>\n      <th>1</th>\n      <td>2020-04-13</td>\n      <td>0</td>\n      <td>29</td>\n      <td>0</td>\n      <td>0</td>\n      <td>0</td>\n      <td>0</td>\n      <td>0</td>\n      <td>1</td>\n      <td>0</td>\n      <td>0</td>\n      <td>0</td>\n    </tr>\n    <tr>\n      <th>2</th>\n      <td>2020-07-10</td>\n      <td>0</td>\n      <td>54</td>\n      <td>0</td>\n      <td>0</td>\n      <td>0</td>\n      <td>0</td>\n      <td>0</td>\n      <td>0</td>\n      <td>1</td>\n      <td>0</td>\n      <td>0</td>\n    </tr>\n    <tr>\n      <th>3</th>\n      <td>2020-09-02</td>\n      <td>0</td>\n      <td>18</td>\n      <td>0</td>\n      <td>0</td>\n      <td>0</td>\n      <td>0</td>\n      <td>0</td>\n      <td>2</td>\n      <td>2</td>\n      <td>0</td>\n      <td>0</td>\n    </tr>\n    <tr>\n      <th>4</th>\n      <td>2020-10-31</td>\n      <td>0</td>\n      <td>22</td>\n      <td>0</td>\n      <td>0</td>\n      <td>0</td>\n      <td>0</td>\n      <td>0</td>\n      <td>3</td>\n      <td>3</td>\n      <td>0</td>\n      <td>0</td>\n    </tr>\n  </tbody>\n</table>\n</div>"
          },
          "metadata": {}
        }
      ],
      "execution_count": 19,
      "metadata": {
        "collapsed": true,
        "jupyter": {
          "source_hidden": false,
          "outputs_hidden": false
        },
        "nteract": {
          "transient": {
            "deleting": false
          }
        },
        "gather": {
          "logged": 1627526874066
        }
      }
    }
  ],
  "metadata": {
    "kernelspec": {
      "name": "python3-azureml",
      "language": "python",
      "display_name": "Python 3.6 - AzureML"
    },
    "language_info": {
      "name": "python",
      "version": "3.6.9",
      "mimetype": "text/x-python",
      "codemirror_mode": {
        "name": "ipython",
        "version": 3
      },
      "pygments_lexer": "ipython3",
      "nbconvert_exporter": "python",
      "file_extension": ".py"
    },
    "kernel_info": {
      "name": "python3-azureml"
    },
    "microsoft": {
      "host": {
        "AzureML": {
          "notebookHasBeenCompleted": true
        }
      }
    },
    "nteract": {
      "version": "nteract-front-end@1.0.0"
    }
  },
  "nbformat": 4,
  "nbformat_minor": 2
}