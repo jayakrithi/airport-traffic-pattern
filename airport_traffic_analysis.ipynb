{
  "cells": [
    {
      "cell_type": "code",
      "source": [
        "# Import statements to integrate notebook with azure datastores and datasets\r\n",
        "import azureml.core\r\n",
        "from azureml.core import Workspace, Datastore\r\n",
        "import os\r\n",
        "from azureml.core import Dataset\r\n",
        "\r\n",
        "# workspace config information \r\n",
        "ws = Workspace.from_config()\r\n",
        "\r\n",
        "# Details to access the blob storage \r\n",
        "blob_datastoreName='workspaceblobstore' # Name of the datastore to workspace\r\n",
        "containerName=\"azureml-blobstore-d845fdc7-5370-4245-acd8-5ecb6fe12273\"# Name of Azure blob container\r\n",
        "accountName= \"airporttraffic6785036281\" # Storage account name\r\n",
        "accountKey= \"5MIUzuKK7cvU7dHdD3EetRe5kU98EziZYhEqQM15Hv5bD9HjM5IzOtjq7uBpHFJEtdOj35Rrm9dSbnY0A2hjKw==\" # Storage account access key\r\n",
        "\r\n",
        "# Using Azure Blob GET API to fetch the blob datastore \r\n",
        "blob_datastore = Datastore.get(ws, blob_datastoreName)\r\n",
        "\r\n",
        "# Get the registered tabular dataset by name \r\n",
        "ds = Dataset.get_by_name(ws, 'covid_impact_on_airport_traffic.csv')\r\n",
        "# Converting dataset into pandas dataframe\r\n",
        "df = ds.to_pandas_dataframe()"
      ],
      "outputs": [],
      "execution_count": 1,
      "metadata": {
        "gather": {
          "logged": 1627517646962
        }
      }
    },
    {
      "cell_type": "code",
      "source": [
        "df.head(5)"
      ],
      "outputs": [
        {
          "output_type": "execute_result",
          "execution_count": 2,
          "data": {
            "text/plain": "                                                Path AggregationMethod  \\\n0  workspaceblobstore/covid_impact_on_airport_tra...             Daily   \n1  workspaceblobstore/covid_impact_on_airport_tra...             Daily   \n2  workspaceblobstore/covid_impact_on_airport_tra...             Daily   \n3  workspaceblobstore/covid_impact_on_airport_tra...             Daily   \n4  workspaceblobstore/covid_impact_on_airport_tra...             Daily   \n\n        Date  Version      AirportName  PercentOfBaseline  \\\n0 2020-04-03      1.0  Kingsford Smith                 64   \n1 2020-04-13      1.0  Kingsford Smith                 29   \n2 2020-07-10      1.0  Kingsford Smith                 54   \n3 2020-09-02      1.0  Kingsford Smith                 18   \n4 2020-10-31      1.0  Kingsford Smith                 22   \n\n                                    Centroid    City            State  \\\n0  POINT(151.180087713813 -33.9459774986125)  Sydney  New South Wales   \n1  POINT(151.180087713813 -33.9459774986125)  Sydney  New South Wales   \n2  POINT(151.180087713813 -33.9459774986125)  Sydney  New South Wales   \n3  POINT(151.180087713813 -33.9459774986125)  Sydney  New South Wales   \n4  POINT(151.180087713813 -33.9459774986125)  Sydney  New South Wales   \n\n  ISO_3166_2    Country                                          Geography  \n0         AU  Australia  POLYGON((151.164354085922 -33.9301772341877, 1...  \n1         AU  Australia  POLYGON((151.164354085922 -33.9301772341877, 1...  \n2         AU  Australia  POLYGON((151.164354085922 -33.9301772341877, 1...  \n3         AU  Australia  POLYGON((151.164354085922 -33.9301772341877, 1...  \n4         AU  Australia  POLYGON((151.164354085922 -33.9301772341877, 1...  ",
            "text/html": "<div>\n<style scoped>\n    .dataframe tbody tr th:only-of-type {\n        vertical-align: middle;\n    }\n\n    .dataframe tbody tr th {\n        vertical-align: top;\n    }\n\n    .dataframe thead th {\n        text-align: right;\n    }\n</style>\n<table border=\"1\" class=\"dataframe\">\n  <thead>\n    <tr style=\"text-align: right;\">\n      <th></th>\n      <th>Path</th>\n      <th>AggregationMethod</th>\n      <th>Date</th>\n      <th>Version</th>\n      <th>AirportName</th>\n      <th>PercentOfBaseline</th>\n      <th>Centroid</th>\n      <th>City</th>\n      <th>State</th>\n      <th>ISO_3166_2</th>\n      <th>Country</th>\n      <th>Geography</th>\n    </tr>\n  </thead>\n  <tbody>\n    <tr>\n      <th>0</th>\n      <td>workspaceblobstore/covid_impact_on_airport_tra...</td>\n      <td>Daily</td>\n      <td>2020-04-03</td>\n      <td>1.0</td>\n      <td>Kingsford Smith</td>\n      <td>64</td>\n      <td>POINT(151.180087713813 -33.9459774986125)</td>\n      <td>Sydney</td>\n      <td>New South Wales</td>\n      <td>AU</td>\n      <td>Australia</td>\n      <td>POLYGON((151.164354085922 -33.9301772341877, 1...</td>\n    </tr>\n    <tr>\n      <th>1</th>\n      <td>workspaceblobstore/covid_impact_on_airport_tra...</td>\n      <td>Daily</td>\n      <td>2020-04-13</td>\n      <td>1.0</td>\n      <td>Kingsford Smith</td>\n      <td>29</td>\n      <td>POINT(151.180087713813 -33.9459774986125)</td>\n      <td>Sydney</td>\n      <td>New South Wales</td>\n      <td>AU</td>\n      <td>Australia</td>\n      <td>POLYGON((151.164354085922 -33.9301772341877, 1...</td>\n    </tr>\n    <tr>\n      <th>2</th>\n      <td>workspaceblobstore/covid_impact_on_airport_tra...</td>\n      <td>Daily</td>\n      <td>2020-07-10</td>\n      <td>1.0</td>\n      <td>Kingsford Smith</td>\n      <td>54</td>\n      <td>POINT(151.180087713813 -33.9459774986125)</td>\n      <td>Sydney</td>\n      <td>New South Wales</td>\n      <td>AU</td>\n      <td>Australia</td>\n      <td>POLYGON((151.164354085922 -33.9301772341877, 1...</td>\n    </tr>\n    <tr>\n      <th>3</th>\n      <td>workspaceblobstore/covid_impact_on_airport_tra...</td>\n      <td>Daily</td>\n      <td>2020-09-02</td>\n      <td>1.0</td>\n      <td>Kingsford Smith</td>\n      <td>18</td>\n      <td>POINT(151.180087713813 -33.9459774986125)</td>\n      <td>Sydney</td>\n      <td>New South Wales</td>\n      <td>AU</td>\n      <td>Australia</td>\n      <td>POLYGON((151.164354085922 -33.9301772341877, 1...</td>\n    </tr>\n    <tr>\n      <th>4</th>\n      <td>workspaceblobstore/covid_impact_on_airport_tra...</td>\n      <td>Daily</td>\n      <td>2020-10-31</td>\n      <td>1.0</td>\n      <td>Kingsford Smith</td>\n      <td>22</td>\n      <td>POINT(151.180087713813 -33.9459774986125)</td>\n      <td>Sydney</td>\n      <td>New South Wales</td>\n      <td>AU</td>\n      <td>Australia</td>\n      <td>POLYGON((151.164354085922 -33.9301772341877, 1...</td>\n    </tr>\n  </tbody>\n</table>\n</div>"
          },
          "metadata": {}
        }
      ],
      "execution_count": 2,
      "metadata": {
        "collapsed": true,
        "jupyter": {
          "source_hidden": false,
          "outputs_hidden": false
        },
        "nteract": {
          "transient": {
            "deleting": false
          }
        },
        "gather": {
          "logged": 1627517647295
        }
      }
    }
  ],
  "metadata": {
    "kernelspec": {
      "name": "python3-azureml",
      "language": "python",
      "display_name": "Python 3.6 - AzureML"
    },
    "language_info": {
      "name": "python",
      "version": "3.6.9",
      "mimetype": "text/x-python",
      "codemirror_mode": {
        "name": "ipython",
        "version": 3
      },
      "pygments_lexer": "ipython3",
      "nbconvert_exporter": "python",
      "file_extension": ".py"
    },
    "kernel_info": {
      "name": "python3-azureml"
    },
    "microsoft": {
      "host": {
        "AzureML": {
          "notebookHasBeenCompleted": true
        }
      }
    },
    "nteract": {
      "version": "nteract-front-end@1.0.0"
    }
  },
  "nbformat": 4,
  "nbformat_minor": 2
}